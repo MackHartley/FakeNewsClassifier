{
 "cells": [
  {
   "cell_type": "code",
   "execution_count": 21,
   "metadata": {},
   "outputs": [],
   "source": [
    "import bs4\n",
    "from bs4 import BeautifulSoup\n",
    "from urllib.request import urlopen\n",
    "import urllib\n",
    "import urllib.request"
   ]
  },
  {
   "cell_type": "code",
   "execution_count": null,
   "metadata": {
    "collapsed": true
   },
   "outputs": [],
   "source": [
    "lst = [\"You+Can+Smell+Hillary%27s+fear\", \"\"]"
   ]
  },
  {
   "cell_type": "code",
   "execution_count": 2,
   "metadata": {
    "collapsed": true
   },
   "outputs": [],
   "source": [
    "def append_query(q):\n",
    "    return \"https://newsapi.org/v2/everything?q=\"+q+\"&apiKey=2d5cb94ff25c4b1184dcd4986fb5fb1a\""
   ]
  },
  {
   "cell_type": "code",
   "execution_count": 22,
   "metadata": {
    "collapsed": true
   },
   "outputs": [],
   "source": [
    "def search_news(q):\n",
    "    url = append_query(q)\n",
    "    try:\n",
    "        page = urllib.request.urlopen(url)\n",
    "    except urllib.error.HTTPError:\n",
    "        print('URL not valid.')\n",
    "        return\n",
    "    soup = BeautifulSoup(page, \"lxml\")\n",
    "    print(soup)"
   ]
  },
  {
   "cell_type": "code",
   "execution_count": 23,
   "metadata": {},
   "outputs": [
    {
     "name": "stdout",
     "output_type": "stream",
     "text": [
      "<html><body><p>{\"status\":\"ok\",\"totalResults\":1,\"articles\":[{\"source\":{\"id\":null,\"name\":\"Freerepublic.com\"},\"author\":\"Self\",\"title\":\"Bubba Macbeth,ACT V SCENE I\",\"description\":\"We're all expecting and anticipating Hillary's descent into madness. Given that, I'm thinking a tie-in to Lady Macbeth might be appropriate. No time soon, perhaps. Months, years? Yet madness will overtake her I think. With apologies to William Shakespeare... â€¦\",\"url\":\"https://www.freerepublic.com/focus/f-bloggers/3640416/posts\",\"urlToImage\":null,\"publishedAt\":\"2018-03-17T17:10:32Z\"}]}</p></body></html>\n"
     ]
    }
   ],
   "source": [
    "q = \"You+Can+Smell+Hillary%27s+fear\"\n",
    "content = search_news(q)"
   ]
  },
  {
   "cell_type": "code",
   "execution_count": null,
   "metadata": {
    "collapsed": true
   },
   "outputs": [],
   "source": [
    "import json"
   ]
  }
 ],
 "metadata": {
  "kernelspec": {
   "display_name": "Python 3",
   "language": "python",
   "name": "python3"
  },
  "language_info": {
   "codemirror_mode": {
    "name": "ipython",
    "version": 3
   },
   "file_extension": ".py",
   "mimetype": "text/x-python",
   "name": "python",
   "nbconvert_exporter": "python",
   "pygments_lexer": "ipython3",
   "version": "3.6.3"
  }
 },
 "nbformat": 4,
 "nbformat_minor": 2
}
