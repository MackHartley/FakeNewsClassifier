{
 "cells": [
  {
   "cell_type": "code",
   "execution_count": 2,
   "metadata": {
    "collapsed": true
   },
   "outputs": [],
   "source": [
    "from bs4 import BeautifulSoup # install BeautifulSoup4 from anaconda or pipimport urllib2\n",
    "import re\n",
    "import urllib\n",
    "import os\n",
    "import requests\n",
    "from webpage_parser import *"
   ]
  },
  {
   "cell_type": "code",
   "execution_count": 3,
   "metadata": {
    "collapsed": true
   },
   "outputs": [],
   "source": [
    "# subscription_key = '2c85656981434ddc90c1a146c5ab0be9'\n",
    "# assert subscription_key\n",
    "# search_url = \"https://api.cognitive.microsoft.com/bing/v7.0/search\"\n",
    "# search_term = \"JAPANESE PM Gives President Trump What American Media Won’t\"\n",
    "# headers = {\"Ocp-Apim-Subscription-Key\" : subscription_key}\n",
    "# params  = {\"q\": search_term, \"textDecorations\":True, \"textFormat\":\"HTML\"}\n",
    "# response = requests.get(search_url, headers=headers, params=params)\n",
    "# response.raise_for_status()\n",
    "# search_results = response.json()\n",
    "#search_results"
   ]
  },
  {
   "cell_type": "code",
   "execution_count": 4,
   "metadata": {},
   "outputs": [],
   "source": [
    "news_url = \"http://www.bbc.com/news/blogs-trending-43745629\"\n",
    "title, content, outlinks = process_page(news_url)"
   ]
  },
  {
   "cell_type": "code",
   "execution_count": 11,
   "metadata": {},
   "outputs": [
    {
     "data": {
      "text/plain": [
       "163"
      ]
     },
     "execution_count": 11,
     "metadata": {},
     "output_type": "execute_result"
    }
   ],
   "source": [
    "len(outlinks)"
   ]
  },
  {
   "cell_type": "code",
   "execution_count": 7,
   "metadata": {},
   "outputs": [
    {
     "data": {
      "text/plain": [
       "'Syria war: The online activists pushing conspiracy theories - BBC News'"
      ]
     },
     "execution_count": 7,
     "metadata": {},
     "output_type": "execute_result"
    }
   ],
   "source": [
    "title"
   ]
  },
  {
   "cell_type": "code",
   "execution_count": 8,
   "metadata": {},
   "outputs": [
    {
     "data": {
      "text/plain": [
       "['',\n",
       " '',\n",
       " 'Share this with',\n",
       " 'Email',\n",
       " 'Facebook',\n",
       " 'Messenger',\n",
       " 'Messenger',\n",
       " 'Twitter',\n",
       " 'Pinterest',\n",
       " 'WhatsApp',\n",
       " 'LinkedIn',\n",
       " 'Copy this link',\n",
       " 'These are external links and will open in a new window',\n",
       " 'As the investigation continues into another alleged chemical attack in Syria, one group of influential online activists is busy spreading their version of events.',\n",
       " \"Inspectors from the Organisation for the Prohibition of Chemical Weapons (OPCW) are attempting to access the previously rebel-held town of Douma, where medical organisations and rescue workers say President Bashar al-Assad's forces dropped bombs filled with toxic chemicals in an attack on 7 April, killing more than 40 people.\",\n",
       " 'The Syrian government and its key ally, Russia, say the incident was staged. But the US, UK and France - who support the opposition to Mr Assad - say they are confident that chlorine and possibly a nerve agent were used.',\n",
       " 'Despite the uncertainty about what happened in Douma, a cluster of influential social media activists is certain that it knows what occurred on 7 April. ',\n",
       " 'They\\'ve seized on a theory being floated by Russian officials and state-owned media outlets that the attacks were \"staged\" or were a \"false flag\" operation, carried out by jihadist groups or spies in order to put the blame on the Assad government and provide a justification for Western intervention.',\n",
       " 'The group includes activists and people who call themselves \"independent journalists\", and several have Twitter followings reaching into the tens or hundreds of thousands. ',\n",
       " 'You may also be interested in:',\n",
       " 'The activists call themselves \"anti-war\", but as they generally back the Syrian government\\'s military operations against rebel forces seeking to overthrow Mr Assad and Russian air strikes carried out in support, it might be more accurate to describe them as \"anti-Western intervention\" or \"pro-Syrian government\". ',\n",
       " 'According to their narrative, international media organisations across the political spectrum, along with human rights organisations, are somehow covertly aligned with Western governments, Saudi Arabia, the Islamic State group and al-Qaeda and taking part in a secretive plot to take over Syria.',\n",
       " 'The network of activists includes people like Vanessa Beeley. She has more than 30,000 Twitter followers and writes for a news outlet that the website Media Bias/Fact Check calls a \"conspiracy and conjecture site\" that has \"an extreme right bias\".',\n",
       " 'In response to a list of questions, she called BBC Trending\\'s story a \"blatant attempt\" to \"silence independent journalism\" and repeated unsubstantiated claims about alleged chemical weapons attacks.',\n",
       " 'Beeley gives talks to fringe groups and makes appearances on media outlets including state-owned Russian channel RT.',\n",
       " 'But in the online conversation about Syria there are more influential activists, about whom much less is known. ',\n",
       " 'Sarah Abdallah (@sahouraxo on Twitter) has more than 125,000 followers, among them more than 250 journalists from mainstream media outlets. Her follower count is comparable to BBC journalists who regularly report on Syria, such as BBC Middle East Editor Jeremy Bowen (167,000) and BBC Chief International Correspondent Lyse Doucet (142,000).',\n",
       " 'More from Trending:',\n",
       " 'In addition to pictures of herself, Sarah Abdallah tweets constant pro-Russia and pro-Assad messages, with a dollop of retweeting mostly aimed at attacking Barack Obama, other US Democrats and Saudi Arabia.',\n",
       " 'In her Twitter profile she describes herself as an \"Independent Lebanese geopolitical commentator\" but she has almost no online presence or published stories or writing away from social media platforms. A personal blog linked to by her account has no posts.',\n",
       " 'Her tweets have been quoted by mainstream news outlets, but a Google News search indicates that she has not written any articles in either English or Arabic. ',\n",
       " 'She refused to comment several times when approached by BBC Trending and did not respond to specific requests to comment on this story in particular.',\n",
       " 'The Sarah Abdallah account is, according to a recent study by the online research firm Graphika, one of the most influential social media accounts in the online conversation about Syria, and specifically in pushing misinformation about a 2017 chemical weapons attack and the Syria Civil Defence, whose rescue workers are widely known as the \"White Helmets\".  ',\n",
       " \"The White Helmets operate in rebel-held areas. They have been one of the sources that Western media outlets, including the BBC, have quoted about alleged chemical attacks in Syria. With regard to the incident in Douma, the BBC has not been able independently to verify the group's reports.\",\n",
       " \"Graphika chief executive John Kelly says his company's analysis showed distinct patterns emerging.\",\n",
       " '\"When you\\'re looking at these disinformation campaigns, a lot of the same characters show up for every party,\" he told BBC Trending.',\n",
       " 'Graphika was commissioned to prepare a report on online chatter by The Syria Campaign, a UK-based advocacy group organisation which campaigns for a democratic future for Syria and supports the White Helmets. The White Helmets have been the subject of two Oscar-nominated documentary films and have been nominated for the Nobel Peace Prize.',\n",
       " 'Graphika found 20 million messages about the White Helmets, split between tweets in support and in opposition. Among the opponents, Kelly says, Sarah Abdallah was \"by far the most influential\", followed by Vanessa Beeley.',\n",
       " \"The firm found that Sarah Abdallah's account was primarily followed by a number of different interest clusters: supporters of pro-Palestinian causes, Russians and Russian allies, white nationalists and those from the extremist alt-right, conservative American Trump supporters, far-right groups in Europe and conspiracy theorists. \",\n",
       " 'These groups were instrumental in making the hashtag #SyriaHoax trend after the chemical weapons attack in the rebel-held town of Khan Sheikhoun in April 2017. ',\n",
       " 'That hashtag, pushed by Sarah Abdallah and influential American conservative activists, became a worldwide trend on Twitter. Many of those tweeting it claimed that the chemical weapons attack was faked or a hoax.',\n",
       " 'Beeley said the 2017 attack had \"been debunked by a number of highly respected analysts and experts.\" She alleged that evidence \"points to the White Helmets as a propaganda construct\" and asked, via email: \"Why has the BBC never carried out an investigation into the White Helmets?\" ',\n",
       " 'Experts from a joint UN-OPCW mission said in October 2017 that they were confident a Syrian Air Force jet dropped munitions containing sarin on Khan Sheikhoun, dismissing statements from Russia that the jet had fired conventional munitions at a rebel chemical weapons depot.',\n",
       " 'The difficulty in reporting on the ground in Syria has opened up an information vacuum which has been partially filled by highly partisan sources, according to Scott Lucas, a professor of international politics at the University of Birmingham and editor of news and analysis site EA Worldview, ',\n",
       " '\"None of it is journalism; none of it is really based on solid independent reporting,\" Lucas says. ',\n",
       " '\"It is absolutely right to question all narratives, including official narratives of what is happening,\" he says. \"The key is that you don\\'t actually start with a narrative, you start with the facts and you establish what may not be true and what may even be disinformation. ',\n",
       " '\"The danger we face is, unreliable information is now being taken up by more established - and what we would think of as - more reliable outlets,\" he says.',\n",
       " \"Syria 'chemical attack': What we know\",\n",
       " \"And although the activists' follower accounts continue to grow, there is one indication that their influence online might be on the decline compared with last year. \",\n",
       " 'In the hours after the alleged attack in Douma, \"Syria\" was a top trending term on Twitter, but the messages by pro-Assad activists were drowned out by reports from a range of news outlets.',\n",
       " \"The hashtag #SyriaHoax was used around 17,000 times in a week (compared to more than 280,000 times in April 2017), and mostly failed to make Twitter's lists of top trends.\",\n",
       " 'Do you have a story for us? Email BBC Trending.',\n",
       " 'More from Trending: Why are polls and Facebook ads at odds in Ireland?',\n",
       " 'While opinion polls show a comfortable lead for the pro-choice side in an upcoming referendum on abortion in Ireland, one set of figures indicates pro-life paid adverts are gaining more traction on Facebook. But why? READ NOW',\n",
       " 'You can follow BBC Trending on Twitter @BBCtrending, and find us on Facebook.  All our stories are at bbc.com/trending.',\n",
       " 'Our radio show airs every Saturday on BBC World Service',\n",
       " 'Answering life’s questions through daily features, quizzes and opinions.']"
      ]
     },
     "execution_count": 8,
     "metadata": {},
     "output_type": "execute_result"
    }
   ],
   "source": [
    "content"
   ]
  },
  {
   "cell_type": "code",
   "execution_count": 12,
   "metadata": {},
   "outputs": [
    {
     "name": "stdout",
     "output_type": "stream",
     "text": [
      "Entrepreneurship - BBC News\n",
      "Technology of Business - BBC News\n",
      "Business of Sport - BBC News\n",
      "Global education - BBC News\n",
      "Economy - BBC News\n"
     ]
    }
   ],
   "source": [
    "for u in outlinks[100:105]:   #This takes a long time so for demonstration I am only geting the title from 5 pages that current page points to\n",
    "    print(get_title(u))"
   ]
  }
 ],
 "metadata": {
  "kernelspec": {
   "display_name": "Python 3",
   "language": "python",
   "name": "python3"
  },
  "language_info": {
   "codemirror_mode": {
    "name": "ipython",
    "version": 3
   },
   "file_extension": ".py",
   "mimetype": "text/x-python",
   "name": "python",
   "nbconvert_exporter": "python",
   "pygments_lexer": "ipython3",
   "version": "3.6.3"
  }
 },
 "nbformat": 4,
 "nbformat_minor": 2
}
