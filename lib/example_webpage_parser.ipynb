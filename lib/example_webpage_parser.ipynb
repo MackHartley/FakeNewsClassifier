{
 "cells": [
  {
   "cell_type": "code",
   "execution_count": 1,
   "metadata": {
    "collapsed": true
   },
   "outputs": [],
   "source": [
    "from bs4 import BeautifulSoup # install BeautifulSoup4 from anaconda or pipimport urllib2\n",
    "import re\n",
    "import urllib\n",
    "import os\n",
    "import requests\n",
    "from webpage_parser import *"
   ]
  },
  {
   "cell_type": "code",
   "execution_count": 2,
   "metadata": {
    "collapsed": true
   },
   "outputs": [],
   "source": [
    "# subscription_key = '2c85656981434ddc90c1a146c5ab0be9'\n",
    "# assert subscription_key\n",
    "# search_url = \"https://api.cognitive.microsoft.com/bing/v7.0/search\"\n",
    "# search_term = \"JAPANESE PM Gives President Trump What American Media Won’t\"\n",
    "# headers = {\"Ocp-Apim-Subscription-Key\" : subscription_key}\n",
    "# params  = {\"q\": search_term, \"textDecorations\":True, \"textFormat\":\"HTML\"}\n",
    "# response = requests.get(search_url, headers=headers, params=params)\n",
    "# response.raise_for_status()\n",
    "# search_results = response.json()\n",
    "#search_results"
   ]
  },
  {
   "cell_type": "code",
   "execution_count": 3,
   "metadata": {
    "collapsed": true
   },
   "outputs": [],
   "source": [
    "news_url = \"http://variety.com/2018/music/news/avicii-dead-at-28-1202772767/\"\n",
    "title, content, outlinks = process_page(news_url)"
   ]
  },
  {
   "cell_type": "code",
   "execution_count": 4,
   "metadata": {},
   "outputs": [
    {
     "data": {
      "text/plain": [
       "178"
      ]
     },
     "execution_count": 4,
     "metadata": {},
     "output_type": "execute_result"
    }
   ],
   "source": [
    "len(outlinks)"
   ]
  },
  {
   "cell_type": "code",
   "execution_count": 5,
   "metadata": {},
   "outputs": [
    {
     "data": {
      "text/plain": [
       "'Avicii Dead at 28 – Variety'"
      ]
     },
     "execution_count": 5,
     "metadata": {},
     "output_type": "execute_result"
    }
   ],
   "source": [
    "title"
   ]
  },
  {
   "cell_type": "code",
   "execution_count": 6,
   "metadata": {},
   "outputs": [
    {
     "data": {
      "text/plain": [
       "['Artist, DJ, and producer Tim Bergling, a.k.a. Avicii, died Friday afternoon in Oman, according to a statement from his rep. He was 28.',\n",
       " '“It is with profound sorrow that we announce the loss of Tim Bergling, also known as Avicii,” the statement reads. “He was found dead in Muscat, Oman\\xa0this Friday\\xa0afternoon local time, April 20th. The family is devastated and we ask everyone to please respect their need\\xa0for\\xa0privacy in this difficult time.\\xa0No further statements will be given.”',\n",
       " 'One of the most popular and successful electronic dance-music artists of all time — he scored a No. 4 hit on the Billboard 200 in 2013 with “Wake Me Up” and regularly appeared in the Top 5 of Forbes’ “Highest-Paid DJs” lists — he retired from live performing in 2016 at the peak of his success, citing health reasons. He had suffered from health problems for several years, including acute pancreatitis, in part due to excessive drinking. He had his gallbladder and appendix removed in 2014.',\n",
       " '',\n",
       " 'He posted the following statement on his website last year:',\n",
       " '“WE ALL REACH A POINT IN OUR LIVES AND CAREERS WHERE WE UNDERSTAND WHAT MATTERS THE MOST TO US.\\nFor me it’s creating music. That is what I live for, what I feel I was born to do.',\n",
       " '\\n\\nRelated\\n\\n\\n\\n\\n\\n\\n\\n\\nCelebrities Who Died in 2018\\n\\n\\n\\n\\n',\n",
       " 'Last year I quit performing live, and many of you thought that was it. But the end of live never meant the end of Avicii or my music. Instead, I went back to the place where it all made sense – the studio.',\n",
       " 'The next stage will be all about my love of making music to you guys. It is the beginning of something new.',\n",
       " 'Hope you’ll enjoy it as much as I do.”',\n",
       " 'Bergling was born in Stockholm on Sept. 8, 1989. He began DJing as a teenager and released his first single in 2007. He released a large number of singles and remixes in the following years and rapidly built a reputation as a live act. He broke through with his 2010 hit “Seek Bromance,” which charted in several European countries; he signed a publishing deal with EMI the same year. He explained his chosen DJ name as “the lowest level of Buddhist hell,” chosen because his real name was already being used by another Tim Bergling on MySpace.',\n",
       " 'His 2011 single “Levels,” which was later nominated for a Grammy Award, vaulted him into the mainstream, charting in multiple European countries and topping the chart in his native Sweden. “Sunshine,” his 2012 collaboration with David Guetta, was nominated for a Grammy for best dance recording. In September of that year, he became the first DJ to headline New York’s prestigious Radio City Music Hall; at those two shows, he previewed a new song with Mike Posner titled “Stay with You.”',\n",
       " 'His proper debut album, “True,” was released on September 2013, much of which was previewed during his headlining set at the Ultra Music Festival earlier that year. The album featured “Wake Me Up,” a collaboration with Aloe Blacc, which topped the charts in multiple countries across the world and was No. 1 for a record 14 weeks on Billboard’s Dance/Electronic Songs chart; it was also the U.K.’s fastest-selling single of 2013. Other singers on the album included Adam Lambert and Audra Mae. He also worked with Madonna during this period and contributed to two songs on her 2015 album “Rebel Heart,” although both parties seemed unhappy with the collaboration and Avicii said the final versions were quite different from his demos.',\n",
       " '',\n",
       " 'The extent of his popularity was reflected in a 2014 “Saturday Night Live” digital short called “When Will the Bass Drop?,” with comic Andy Samberg playing a fictional mega-DJ named “Davvincii” (although he was made up to look more like David Guetta).',\n",
       " 'However, as his popularity rose, his health declined. He was hospitalized in March 2014 and cancelled several tour appearances; not long after, he collaborated with Carlos Santana and Wyclef on the official FIFA World Cut Anthem “We Will Find a Way.” Also that year, he produced a song on Coldplay’s album “Ghost Stories.” He released his second full-length album, “Stories,” in October 2015.',\n",
       " 'In March of 2016, he performed at the Ultra Music Festival, premiering new material, but 10 days later announced that he was retiring from performing. He made a final live appearance in August in Ibiza. In December, he parted ways with longtime manager Ash Pournouri.',\n",
       " \"In August of 2017 he released a six-track EP entitled “Avici,” which he said was the first of three installments that would be his next album. He followed a month later with a full-length documentary called “True Stories,” which was largely about his retirement. In it, promoters are seen trying to convince him to continue touring, even though he’s in obvious physical pain. “I looked at myself like, ‘F—, you should’ve really stood up for yourself more there. Come on, Tim!,'” he said of the documentary to Rolling Stone in an interview published last September. “Why didn’t I stop the ship earlier?”\",\n",
       " '“I needed to figure out my life,” he continued. “The whole thing was about success for the sake of success. I wasn’t getting any happiness anymore. Now that I have more time in the studio, I want to learn as much about other genres as possible. That’s what I love the most – having a session with Nile Rodgers, for instance, and getting an understanding of music that’s invaluable.”',\n",
       " 'RELATED CONTENT',\n",
       " 'Musicians, Celebrities Pay Tribute to Avicii',\n",
       " 'Avicii’s Biggest Hits (Listen)',\n",
       " '‘Avicii: True Stories’ Documentary Reveals Star DJ’s Struggles With Health, Fame and Early Retirement',\n",
       " 'Avicii’s Life and Career in Photos',\n",
       " 'POPULAR ON VARIETY',\n",
       " 'Artist, DJ, and producer Tim Bergling, a.k.a. Avicii, died Friday afternoon in Oman, according to a statement from his rep. He was 28. “It is with profound sorrow that we announce the loss of Tim Bergling, also known as Avicii,” the statement reads. “He was found dead in Muscat, Oman\\xa0this Friday\\xa0afternoon local time, April 20th. […]',\n",
       " 'Artist, DJ, and producer Tim Bergling, a.k.a. Avicii, died Friday afternoon in Oman, according to a statement from his rep. He was 28. “It is with profound sorrow that we announce the loss of Tim Bergling, also known as Avicii,” the statement reads. “He was found dead in Muscat, Oman\\xa0this Friday\\xa0afternoon local time, April 20th. […]',\n",
       " 'Artist, DJ, and producer Tim Bergling, a.k.a. Avicii, died Friday afternoon in Oman, according to a statement from his rep. He was 28. “It is with profound sorrow that we announce the loss of Tim Bergling, also known as Avicii,” the statement reads. “He was found dead in Muscat, Oman\\xa0this Friday\\xa0afternoon local time, April 20th. […]',\n",
       " 'Artist, DJ, and producer Tim Bergling, a.k.a. Avicii, died Friday afternoon in Oman, according to a statement from his rep. He was 28. “It is with profound sorrow that we announce the loss of Tim Bergling, also known as Avicii,” the statement reads. “He was found dead in Muscat, Oman\\xa0this Friday\\xa0afternoon local time, April 20th. […]',\n",
       " 'Artist, DJ, and producer Tim Bergling, a.k.a. Avicii, died Friday afternoon in Oman, according to a statement from his rep. He was 28. “It is with profound sorrow that we announce the loss of Tim Bergling, also known as Avicii,” the statement reads. “He was found dead in Muscat, Oman\\xa0this Friday\\xa0afternoon local time, April 20th. […]',\n",
       " 'Artist, DJ, and producer Tim Bergling, a.k.a. Avicii, died Friday afternoon in Oman, according to a statement from his rep. He was 28. “It is with profound sorrow that we announce the loss of Tim Bergling, also known as Avicii,” the statement reads. “He was found dead in Muscat, Oman\\xa0this Friday\\xa0afternoon local time, April 20th. […]',\n",
       " 'Artist, DJ, and producer Tim Bergling, a.k.a. Avicii, died Friday afternoon in Oman, according to a statement from his rep. He was 28. “It is with profound sorrow that we announce the loss of Tim Bergling, also known as Avicii,” the statement reads. “He was found dead in Muscat, Oman\\xa0this Friday\\xa0afternoon local time, April 20th. […]',\n",
       " '© Copyright 2017 Variety Media, LLC, a subsidiary of Penske Business Media, LLC. Variety and the Flying V logos are trademarks of Variety Media, LLC.\\t\\tPowered by WordPress.com VIP\\n',\n",
       " 'Access exclusive content',\n",
       " '© 2018 Penske Media Corporation']"
      ]
     },
     "execution_count": 6,
     "metadata": {},
     "output_type": "execute_result"
    }
   ],
   "source": [
    "content"
   ]
  },
  {
   "cell_type": "code",
   "execution_count": 12,
   "metadata": {},
   "outputs": [
    {
     "name": "stdout",
     "output_type": "stream",
     "text": [
      "Entrepreneurship - BBC News\n",
      "Technology of Business - BBC News\n",
      "Business of Sport - BBC News\n",
      "Global education - BBC News\n",
      "Economy - BBC News\n"
     ]
    }
   ],
   "source": [
    "for u in outlinks[100:105]:   #This takes a long time so for demonstration I am only geting the title from 5 pages that current page points to\n",
    "    print(get_title(u))"
   ]
  }
 ],
 "metadata": {
  "kernelspec": {
   "display_name": "Python 3",
   "language": "python",
   "name": "python3"
  },
  "language_info": {
   "codemirror_mode": {
    "name": "ipython",
    "version": 3
   },
   "file_extension": ".py",
   "mimetype": "text/x-python",
   "name": "python",
   "nbconvert_exporter": "python",
   "pygments_lexer": "ipython3",
   "version": "3.6.3"
  }
 },
 "nbformat": 4,
 "nbformat_minor": 2
}
