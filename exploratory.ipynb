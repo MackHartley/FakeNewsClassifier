{
 "cells": [
  {
   "cell_type": "code",
   "execution_count": 78,
   "metadata": {
    "collapsed": true
   },
   "outputs": [],
   "source": [
    "import pandas as pd\n",
    "import numpy as np"
   ]
  },
  {
   "cell_type": "code",
   "execution_count": 79,
   "metadata": {
    "collapsed": true
   },
   "outputs": [],
   "source": [
    "import re"
   ]
  },
  {
   "cell_type": "code",
   "execution_count": 80,
   "metadata": {
    "collapsed": true
   },
   "outputs": [],
   "source": [
    "import requests"
   ]
  },
  {
   "cell_type": "code",
   "execution_count": 81,
   "metadata": {
    "collapsed": true
   },
   "outputs": [],
   "source": [
    "from sklearn.feature_extraction.text import CountVectorizer, TfidfTransformer, TfidfVectorizer\n",
    "from sklearn.ensemble import GradientBoostingClassifier\n",
    "from sklearn.model_selection import train_test_split\n",
    "from sklearn.metrics import confusion_matrix\n",
    "from sklearn.utils import shuffle\n",
    "from sklearn.metrics.pairwise import cosine_similarity"
   ]
  },
  {
   "cell_type": "code",
   "execution_count": 124,
   "metadata": {
    "collapsed": true
   },
   "outputs": [],
   "source": [
    "df = pd.read_csv('fake.csv')\n",
    "df = df[df.language=='english']\n",
    "df.loc[df['text'].isnull(), 'text'] = ''\n",
    "df.loc[df['thread_title'].isnull(),'thread_title'] = ''"
   ]
  },
  {
   "cell_type": "code",
   "execution_count": 125,
   "metadata": {
    "collapsed": true,
    "scrolled": true
   },
   "outputs": [],
   "source": [
    "ranks = [i for i in df['domain_rank'].tolist() if np.isnan(i) == False]"
   ]
  },
  {
   "cell_type": "code",
   "execution_count": 126,
   "metadata": {
    "collapsed": true
   },
   "outputs": [],
   "source": [
    "participants_frequency = pd.crosstab(index = df['participants_count'], columns='count')"
   ]
  },
  {
   "cell_type": "code",
   "execution_count": 127,
   "metadata": {},
   "outputs": [
    {
     "data": {
      "text/plain": [
       "{'bias', 'bs', 'conspiracy', 'fake', 'hate', 'junksci', 'satire', 'state'}"
      ]
     },
     "execution_count": 127,
     "metadata": {},
     "output_type": "execute_result"
    }
   ],
   "source": [
    "set([i for i in df['type'].tolist()])"
   ]
  },
  {
   "cell_type": "code",
   "execution_count": 128,
   "metadata": {},
   "outputs": [
    {
     "data": {
      "text/html": [
       "<div>\n",
       "<style>\n",
       "    .dataframe thead tr:only-child th {\n",
       "        text-align: right;\n",
       "    }\n",
       "\n",
       "    .dataframe thead th {\n",
       "        text-align: left;\n",
       "    }\n",
       "\n",
       "    .dataframe tbody tr th {\n",
       "        vertical-align: top;\n",
       "    }\n",
       "</style>\n",
       "<table border=\"1\" class=\"dataframe\">\n",
       "  <thead>\n",
       "    <tr style=\"text-align: right;\">\n",
       "      <th></th>\n",
       "      <th>ord_in_thread</th>\n",
       "      <th>domain_rank</th>\n",
       "      <th>spam_score</th>\n",
       "      <th>replies_count</th>\n",
       "      <th>participants_count</th>\n",
       "      <th>likes</th>\n",
       "      <th>comments</th>\n",
       "      <th>shares</th>\n",
       "    </tr>\n",
       "  </thead>\n",
       "  <tbody>\n",
       "    <tr>\n",
       "      <th>count</th>\n",
       "      <td>12403.000000</td>\n",
       "      <td>8228.000000</td>\n",
       "      <td>12403.000000</td>\n",
       "      <td>12403.000000</td>\n",
       "      <td>12403.000000</td>\n",
       "      <td>12403.000000</td>\n",
       "      <td>12403.000000</td>\n",
       "      <td>12403.000000</td>\n",
       "    </tr>\n",
       "    <tr>\n",
       "      <th>mean</th>\n",
       "      <td>0.934371</td>\n",
       "      <td>38715.689961</td>\n",
       "      <td>0.024484</td>\n",
       "      <td>1.449649</td>\n",
       "      <td>1.779973</td>\n",
       "      <td>10.416593</td>\n",
       "      <td>0.028300</td>\n",
       "      <td>10.416593</td>\n",
       "    </tr>\n",
       "    <tr>\n",
       "      <th>std</th>\n",
       "      <td>6.637846</td>\n",
       "      <td>26978.438752</td>\n",
       "      <td>0.120583</td>\n",
       "      <td>9.881279</td>\n",
       "      <td>7.042666</td>\n",
       "      <td>78.689100</td>\n",
       "      <td>0.543768</td>\n",
       "      <td>78.689100</td>\n",
       "    </tr>\n",
       "    <tr>\n",
       "      <th>min</th>\n",
       "      <td>0.000000</td>\n",
       "      <td>486.000000</td>\n",
       "      <td>0.000000</td>\n",
       "      <td>0.000000</td>\n",
       "      <td>0.000000</td>\n",
       "      <td>0.000000</td>\n",
       "      <td>0.000000</td>\n",
       "      <td>0.000000</td>\n",
       "    </tr>\n",
       "    <tr>\n",
       "      <th>25%</th>\n",
       "      <td>0.000000</td>\n",
       "      <td>17592.000000</td>\n",
       "      <td>0.000000</td>\n",
       "      <td>0.000000</td>\n",
       "      <td>1.000000</td>\n",
       "      <td>0.000000</td>\n",
       "      <td>0.000000</td>\n",
       "      <td>0.000000</td>\n",
       "    </tr>\n",
       "    <tr>\n",
       "      <th>50%</th>\n",
       "      <td>0.000000</td>\n",
       "      <td>34478.000000</td>\n",
       "      <td>0.000000</td>\n",
       "      <td>0.000000</td>\n",
       "      <td>1.000000</td>\n",
       "      <td>0.000000</td>\n",
       "      <td>0.000000</td>\n",
       "      <td>0.000000</td>\n",
       "    </tr>\n",
       "    <tr>\n",
       "      <th>75%</th>\n",
       "      <td>0.000000</td>\n",
       "      <td>61423.000000</td>\n",
       "      <td>0.000000</td>\n",
       "      <td>0.000000</td>\n",
       "      <td>1.000000</td>\n",
       "      <td>0.000000</td>\n",
       "      <td>0.000000</td>\n",
       "      <td>0.000000</td>\n",
       "    </tr>\n",
       "    <tr>\n",
       "      <th>max</th>\n",
       "      <td>100.000000</td>\n",
       "      <td>98679.000000</td>\n",
       "      <td>1.000000</td>\n",
       "      <td>309.000000</td>\n",
       "      <td>240.000000</td>\n",
       "      <td>988.000000</td>\n",
       "      <td>30.000000</td>\n",
       "      <td>988.000000</td>\n",
       "    </tr>\n",
       "  </tbody>\n",
       "</table>\n",
       "</div>"
      ],
      "text/plain": [
       "       ord_in_thread   domain_rank    spam_score  replies_count  \\\n",
       "count   12403.000000   8228.000000  12403.000000   12403.000000   \n",
       "mean        0.934371  38715.689961      0.024484       1.449649   \n",
       "std         6.637846  26978.438752      0.120583       9.881279   \n",
       "min         0.000000    486.000000      0.000000       0.000000   \n",
       "25%         0.000000  17592.000000      0.000000       0.000000   \n",
       "50%         0.000000  34478.000000      0.000000       0.000000   \n",
       "75%         0.000000  61423.000000      0.000000       0.000000   \n",
       "max       100.000000  98679.000000      1.000000     309.000000   \n",
       "\n",
       "       participants_count         likes      comments        shares  \n",
       "count        12403.000000  12403.000000  12403.000000  12403.000000  \n",
       "mean             1.779973     10.416593      0.028300     10.416593  \n",
       "std              7.042666     78.689100      0.543768     78.689100  \n",
       "min              0.000000      0.000000      0.000000      0.000000  \n",
       "25%              1.000000      0.000000      0.000000      0.000000  \n",
       "50%              1.000000      0.000000      0.000000      0.000000  \n",
       "75%              1.000000      0.000000      0.000000      0.000000  \n",
       "max            240.000000    988.000000     30.000000    988.000000  "
      ]
     },
     "execution_count": 128,
     "metadata": {},
     "output_type": "execute_result"
    }
   ],
   "source": [
    "df.describe()"
   ]
  },
  {
   "cell_type": "markdown",
   "metadata": {},
   "source": [
    "## Part One"
   ]
  },
  {
   "cell_type": "code",
   "execution_count": 129,
   "metadata": {},
   "outputs": [
    {
     "name": "stdout",
     "output_type": "stream",
     "text": [
      "author 10194\n",
      "title 11723\n",
      "country 12227\n",
      "domain_rank 8228\n",
      "main_img_url 8779\n"
     ]
    }
   ],
   "source": [
    "for column in list(df.columns):\n",
    "    if df[column].count()<len(df):\n",
    "        print(column, df[column].count())"
   ]
  },
  {
   "cell_type": "code",
   "execution_count": 130,
   "metadata": {
    "collapsed": true
   },
   "outputs": [],
   "source": [
    "r = requests.get('https://raw.githubusercontent.com/stanfordnlp/CoreNLP/master/data/edu/stanford/nlp/patterns/surface/stopwords.txt')\n",
    "stopwords = set(r.text.split())\n",
    "more_words = [\"t\",\"m\", \"ll\",\"re\",\"don\",\"doesn\"]\n",
    "stopwords |= set(more_words)"
   ]
  },
  {
   "cell_type": "code",
   "execution_count": 131,
   "metadata": {
    "collapsed": true
   },
   "outputs": [],
   "source": [
    "df['text_lower'] = df['text'].map(lambda x: re.sub(r'[^a-z ]','',x.lower()))\n",
    "df['text_lower'] = df['text_lower'].map(lambda x: ' '.join([word for word in x.strip().split() if word not in stopwords]))"
   ]
  },
  {
   "cell_type": "code",
   "execution_count": 133,
   "metadata": {
    "collapsed": true
   },
   "outputs": [],
   "source": [
    "df['thread_lower'] = df['thread_title'].map(lambda x: re.sub(r'[^a-z ]','',x.lower()))\n",
    "df['thread_lower'] = df['thread_lower'].map(lambda x: ' '.join([word for word in x.strip().split() if word not in stopwords]))"
   ]
  },
  {
   "cell_type": "code",
   "execution_count": 134,
   "metadata": {
    "collapsed": true
   },
   "outputs": [],
   "source": [
    "def reverse(string):\n",
    "    return string.split('.')[1] + '.' + string.split('.')[0]\n",
    "df['site_url'] = df['site_url'].map(lambda x: reverse(x))"
   ]
  },
  {
   "cell_type": "code",
   "execution_count": 82,
   "metadata": {
    "collapsed": true
   },
   "outputs": [],
   "source": [
    "### Similarities of two texts\n",
    "def similarity(t1,t2):\n",
    "    t = [t1,t2]\n",
    "    tfidf_vectorizer = TfidfVectorizer()\n",
    "    vectors = tfidf_vectorizer.fit_transform(t)\n",
    "    vectors = vectors.toarray()\n",
    "    sim = cosine_similarity(vectors[0].reshape(1,-1),vectors[1].reshape(1,-1))[0]\n",
    "    \n",
    "    return sim"
   ]
  },
  {
   "cell_type": "code",
   "execution_count": 86,
   "metadata": {},
   "outputs": [
    {
     "data": {
      "text/plain": [
       "array([ 0.19472336])"
      ]
     },
     "execution_count": 86,
     "metadata": {},
     "output_type": "execute_result"
    }
   ],
   "source": [
    "similarity('You will have to arrange to print late poster submissions on your own', 'I highly encourage you to meet with me and discuss your ideas before submitting your draft')"
   ]
  },
  {
   "cell_type": "markdown",
   "metadata": {},
   "source": [
    "## Part Two: GBC with second dataset"
   ]
  },
  {
   "cell_type": "code",
   "execution_count": 486,
   "metadata": {
    "collapsed": true
   },
   "outputs": [],
   "source": [
    "df2 = shuffle(pd.read_csv('fake_or_real_news.csv'))\n",
    "df2_train, df2_test = train_test_split(df2, test_size=0.2, random_state=1)"
   ]
  },
  {
   "cell_type": "code",
   "execution_count": 31,
   "metadata": {
    "collapsed": true
   },
   "outputs": [],
   "source": [
    "count_vect = CountVectorizer()\n",
    "tfidf_transformer = TfidfTransformer()"
   ]
  },
  {
   "cell_type": "code",
   "execution_count": 32,
   "metadata": {
    "collapsed": true
   },
   "outputs": [],
   "source": [
    "title_count = count_vect.fit_transform(df2['title'])\n",
    "title_tfidf = tfidf_transformer.fit_transform(title_count)\n",
    "(title_tfidf_train, title_tfidf_test, Y_train, Y_test) = train_test_split(title_tfidf, \n",
    "                                                                  df2['label'], \n",
    "                                                                  test_size=0.2, random_state=1)"
   ]
  },
  {
   "cell_type": "code",
   "execution_count": 34,
   "metadata": {},
   "outputs": [
    {
     "data": {
      "text/plain": [
       "array([[553,  73],\n",
       "       [239, 402]], dtype=int64)"
      ]
     },
     "execution_count": 34,
     "metadata": {},
     "output_type": "execute_result"
    }
   ],
   "source": [
    "gbc = GradientBoostingClassifier().fit(title_tfidf_train, Y_train)\n",
    "title_pred = gbc.predict(title_tfidf_test)\n",
    "confusion_matrix(Y_test, title_pred)"
   ]
  },
  {
   "cell_type": "markdown",
   "metadata": {
    "collapsed": true
   },
   "source": [
    "## Part Three: PageRank file."
   ]
  },
  {
   "cell_type": "code",
   "execution_count": null,
   "metadata": {
    "collapsed": true
   },
   "outputs": [],
   "source": [
    "fake_news = list(set(df['site_url']))"
   ]
  },
  {
   "cell_type": "code",
   "execution_count": 144,
   "metadata": {
    "scrolled": true
   },
   "outputs": [
    {
     "name": "stdout",
     "output_type": "stream",
     "text": [
      "{'naturalnews.com': ['944', '269'], 'rt.com': ['3231', '902'], 'infowars.com': ['10621', '1317'], 'zerohedge.com': ['7159', '1637'], 'theonion.com': ['3648', '2081'], 'beforeitsnews.com': ['13333', '2128'], 'breitbart.com': ['4168', '2571'], 'wnd.com': ['8241', '2593'], 'globalresearch.ca': ['10723', '2595'], 'wikileaks.org': ['6380', '2770'], 'counterpunch.org': ['11956', '3065'], 'truth-out.org': ['10481', '3133'], 'abcnews.com': ['13466', '3357'], 'guardianlv.com': ['8382', '3380'], 'presstv.ir': ['16238', '3497'], 'rense.com': ['18816', '3921'], 'lewrockwell.com': ['20457', '3992'], 'drudgereport.com': ['4550', '4424'], 'frontpagemag.com': ['23423', '4484'], 'sott.net': ['27166', '4729'], 'collective-evolution.com': ['28439', '5041'], 'thenewamerican.com': ['27248', '5194'], 'sputniknews.com': ['8087', '5583'], 'coasttocoastam.com': ['32323', '5844'], 'mintpressnews.com': ['35385', '6003'], 'activistpost.com': ['25411', '6020'], 'rbth.com': ['19329', '6065'], 'opednews.com': ['32040', '6195'], 'rinf.com': ['109423', '6362'], 'yournewswire.com': ['62231', '6410'], 'prisonplanet.com': ['30258', '6468'], 'abovetopsecret.com': ['39676', '7246'], 'whatreallyhappened.com': ['54006', '7476'], 'endtime.com': ['259674', '7570'], 'thefreethoughtproject.com': ['44209', '7751'], 'veteranstoday.com': ['38714', '7815'], 'informationclearinghouse.info': ['43660', '7963'], 'washingtonsblog.com': ['58350', '8220'], 'theantimedia.org': ['81505', '8528'], 'westernjournalism.com': ['34302', '8606'], '21stcenturywire.com': ['91514', '8676'], 'antiwar.com': ['36800', '8715'], 'investmentwatchblog.com': ['92326', '8827'], 'presstv.com': ['40103', '8857'], 'dailywire.com': ['41067', '9073'], 'nutritionfacts.org': ['10086', '9376'], 'intellihub.com': ['129202', '9456'], 'nakedcapitalism.com': ['42223', '9562'], 'thedailysheeple.com': ['120530', '9815'], 'disclose.tv': ['60236', '10110'], 'paulcraigroberts.org': ['93407', '10304'], 'thedailywtf.com': ['26656', '10440'], 'blacklistednews.com': ['142072', '10491'], 'newstarget.com': ['107208', '10585'], 'theeconomiccollapseblog.com': ['74221', '10742'], 'voltairenet.org': ['50063', '10875'], 'nowtheendbegins.com': ['103495', '11013'], 'anonhq.com': ['138269', '11160'], 'godlikeproductions.com': ['99317', '11292'], 'vigilantcitizen.com': ['104645', '11536'], 'kingworldnews.com': ['124257', '11588'], 'usuncut.com': ['109483', '11681'], 'southfront.org': ['187058', '12029'], 'dailystormer.com': ['133746', '12070'], 'endoftheamericandream.com': ['136509', '12221'], 'strategic-culture.org': ['121799', '12355'], 'ronpaulinstitute.org': ['124886', '12406'], 'conservativetribune.com': ['53060', '12422'], 'barenakedislam.com': ['117177', '12520'], 'vdare.com': ['78827', '12533'], 'eutimes.net': ['189000', '12617'], 'davidduke.com': ['149996', '12937'], 'in5d.com': ['168786', '13006'], 'rumormillnews.com': ['165288', '13037'], 'geoengineeringwatch.org': ['121659', '13616'], 'unz.com': ['137313', '13730'], 'shtfplan.com': ['87126', '13913'], 'russia-insider.com': ['133073', '13930'], 'blackagendareport.com': ['123029', '13993'], 'wearechange.org': ['58657', '14356'], 'amren.com': ['43371', '14432'], 'foreignpolicyjournal.com': ['110080', '14979'], 'humansarefree.com': ['127187', '15180'], 'worldtruth.tv': ['191999', '15507'], 'thecommonsenseshow.com': ['206829', '15845'], 'katehon.com': ['261967', '16137'], 'corbettreport.com': ['110617', '16331'], 'trunews.com': ['166222', '16853'], 'other98.com': ['275787', '16855'], 'fort-russ.com': ['408328', '16904'], 'pakalertpress.com': ['234502', '17089'], 'hangthebankers.com': ['218025', '17520'], 'moonofalabama.org': ['221893', '17596'], 'silverdoctors.com': ['158983', '17690'], 'davidwolfe.com': ['96507', '17997'], 'thesaker.is': ['239935', '21398'], 'sgtreport.com': ['261128', '21681'], 'galacticconnection.com': ['329773', '23791'], 'therebel.media': ['60530', '24098'], 'readynutrition.com': ['263135', '24669'], 'projectveritas.com': ['200912', '26024'], 'intrepidreport.com': ['505991', '27599'], 'topinfopost.com': ['271820', '28151'], 'addictinginfo.org': ['67909', '32629'], 'amtvmedia.com': ['342533', '33536'], 'libertywritersnews.com': ['563779', '33745'], 'twitchy.com': ['27369', '40008'], 'truthdig.com': ['23935', '40203'], 'thefederalistpapers.org': ['190490', '43697'], 'filmsforaction.org': ['20477', '44156'], 'thesleuthjournal.com': ['220068', '45079'], 'fromthetrenchesworldreport.com': ['27877', '45409'], 'consortiumnews.com': ['54284', '45884'], 'politicususa.com': ['42042', '46167'], 'countercurrents.org': ['60350', '48263'], 'consciouslifenews.com': ['124195', '50204'], 'wakingtimes.com': ['82687', '50426'], 'clickhole.com': ['71781', '52774'], 'freedomoutpost.com': ['159034', '53810'], 'henrymakow.com': ['101646', '54135'], 'theduran.com': ['253023', '55367'], 'ijr.com': ['29450', '56675'], 'healthimpactnews.com': ['62641', '60390'], 'trueactivist.com': ['91619', '60633'], 'realfarmacy.com': ['109883', '64808'], 'liberalamerica.org': ['332504', '65222'], 'pravdareport.com': ['179625', '67196'], 'gomerblog.com': ['767882', '67757'], 'madworldnews.com': ['244765', '68421'], 'theeventchronicle.com': ['314576', '70072'], 'newsbiscuit.com': ['201986', '70293'], 'shadowproof.com': ['146037', '71153'], 'journal-neo.org': ['201797', '72189'], 'thespoof.com': ['234753', '72199'], 'whydontyoutrythis.com': ['190663', '72570'], 'returnofkings.com': ['116952', '75450'], 'libertyunyielding.com': ['335103', '75690'], 'redflagnews.com': ['299994', '76939'], 'thepeoplescube.com': ['236181', '78746'], 'thedailybell.com': ['130935', '81561'], 'legorafi.fr': ['151819', '82861'], 'occupydemocrats.com': ['233852', '84197'], 'bipartisanreport.com': ['433528', '85117'], 'satirewire.com': ['247984', '86417'], 'fellowshipoftheminds.com': ['392036', '87962'], 'educateinspirechange.org': ['218380', '88519'], 'dcclothesline.com': ['316684', '89504'], 'libertyblitzkrieg.com': ['351681', '89791'], 'secretsofthefed.com': ['291019', '92337'], 'naturalblaze.com': ['378339', '99797'], 'russia-direct.org': ['348010', '101188'], 'chronicle.su': ['683521', '101970'], 'greanvillepost.com': ['546397', '103849'], 'orientalreview.org': ['398433', '104055'], 'undergroundhealth.com': ['425595', '110704'], 'therundownlive.com': ['330770', '111551'], 'conservativedailypost.com': ['599033', '114393'], 'redstatewatcher.com': ['716808', '114485'], 'veteransnewsnow.com': ['423673', '115669'], 'endingthefed.com': ['1015182', '124183'], 'darkmoon.me': ['686092', '129566'], 'ahtribune.com': ['255299', '132458'], 'truthfrequencyradio.com': ['270497', '134769'], 'newsthump.com': ['142976', '144682'], 'anonews.co': ['252022', '146704'], 'off-guardian.org': ['709749', '149848'], 'libertynews.com': ['403635', '154456'], 'survivopedia.com': ['666043', '157515'], 'truthfeed.com': ['519870', '164491'], 'ifyouonlynews.com': ['797543', '172092'], 'dailynewsbin.com': ['943013', '181467'], 'allnewspipeline.com': ['438255', '182570'], 'reductress.com': ['178016', '184151'], 'betootaadvocate.com': ['1057220', '184572'], 'abeldanger.net': ['1499523', '185168'], 'themindunleashed.com': ['74948', '190729'], 'americanlookout.com': ['250973', '214257'], 'toprightnews.com': ['771020', '253636'], 'ewao.com': ['504133', '254550'], '100percentfedup.com': ['414725', '264689'], 'dennismichaellynch.com': ['664442', '315430'], 'truthandaction.org': ['672641', '331570'], 'govtslaves.info': ['694711', '332638'], 'theunrealtimes.com': ['189704', '333037'], 'ncscooper.com': ['968012', '333646'], 'waterfordwhispersnews.com': ['476632', '335576'], 'ufoholic.com': ['1868239', '336841'], 'americannews.com': ['1031186', '340665'], 'truthkings.com': ['1480266', '347924'], 'christiantimesnewspaper.com': ['1167311', '362682'], 'patriotrising.com': ['1173780', '362771'], 'usapoliticsnow.com': ['2862567', '364697'], 'defenddemocracy.press': ['1835256', '366194'], 'prepperwebsite.com': ['721875', '369856'], 'worldnewspolitics.com': ['1716085', '374228'], 'empireherald.com': ['2801629', '382395'], 'winningdemocrats.com': ['1588371', '388641'], 'thecontroversialfiles.net': ['2920448', '389616'], 'usanewsflash.com': ['1507899', '405550'], 'proudemocrat.com': ['4120384', '424213'], 'davidstockmanscontracorner.com': ['215832', '1095740'], 'awdnews.com': ['427772', '1104682'], 'shiftfrequency.com': ['352851', '1107003'], 'gulagbound.com': ['300377', '1111031'], 'morningnewsusa.com': ['330008', '1111881'], 'regated.com': ['3276917', '1258603'], 'adobochronicles.com': ['1891592', '1488171'], 'thelastlineofdefense.org': ['826573', '1498367'], 'investmentresearchdynamics.com': ['785301', '2050556'], 'magafeed.com': ['3200620', '2084077'], 'americasfreedomfighters.com': ['929387', '2183892'], 'therussophile.org': ['2166710', '2254642'], 'ihavethetruth.com': ['388356', '2900756'], 'the-newspapers.com': ['6776828', '2939728'], 'usasupreme.com': ['2201663', '2940547'], 'wundergroundmusic.com': ['1805363', '2954938'], 'truthbroadcastnetwork.com': ['8399693', '2961936'], 'viralliberty.com': ['2660439', '2978710'], 'eyeopening.info': ['1536492', '2996900'], 'newcenturytimes.com': ['4140634', '3064353'], 'donaldtrumpnews.co': ['3528408', '3187988'], 'usatwentyfour.com': ['2752487', '3205832'], 'bignuggetnews.com': ['15826369', '3450512'], 'departed.co': ['6882162', '3498088'], 'spinzon.com': ['13114074', '3533957'], 'topratedviral.com': ['8157719', '3606765'], 'miniplanet.us': ['14204876', '3749330'], 'indiaarising.com': ['20857653', '4894447'], 'usanewsinsider.com': ['16937704', '5611977'], 'bigbluevision.org': ['33891985', '6073145'], 'presidentialvoting2016.com': ['36674747', '6203404'], 'jewsnews.co': ['52184255', '18628363']}\n"
     ]
    }
   ],
   "source": [
    "def find_authority():\n",
    "    \"\"\"Look up harmonic centrality and page rank positions for fake news websites. Store values in list\"\"\"\n",
    "    ranks = {}\n",
    "    with open('ranks.txt','r') as f:\n",
    "        next(f)\n",
    "        for line in f:\n",
    "            lst = line.split()\n",
    "            site = lst[4]\n",
    "            if site in url_list:\n",
    "                site = reverse(site)\n",
    "                ranks[site] = [lst[2], lst[0]]\n",
    "    return ranks\n",
    "print(find_authority())"
   ]
  },
  {
   "cell_type": "markdown",
   "metadata": {},
   "source": [
    "PageRank counts the number of possible ways to reach the given site from any other sites. Harmonic Centrality calculates the total degree of inlinks. We note that most fake news websites have lower HC positions than PR positions. This is probably because fake news websites tend to trap users from going back to credible sites, while they may be reached from other more credible sites. "
   ]
  },
  {
   "cell_type": "code",
   "execution_count": 347,
   "metadata": {
    "collapsed": true
   },
   "outputs": [],
   "source": [
    "def search_site(site):\n",
    "    \"\"\"Looks for a site in page rank file\"\"\"\n",
    "    with open('ranks.txt','r') as f:\n",
    "        next(f)\n",
    "        for line in f:\n",
    "            lst = line.split()\n",
    "            if ('.' in site and '.'.join(site.split('.')[::-1])== lst[4]) or site in lst[4].split('.'):\n",
    "                return lst\n",
    "        return False"
   ]
  },
  {
   "cell_type": "code",
   "execution_count": 351,
   "metadata": {
    "collapsed": true
   },
   "outputs": [],
   "source": [
    "def find_ranks(lst):\n",
    "    \"\"\"Generalized version of find_authority\"\"\"\n",
    "    ranks = {}\n",
    "    for i in lst:\n",
    "        if search_site(i) is not False:\n",
    "            ranks[i] = [search_site(i)[0], search_site(i)[2]]\n",
    "        else: continue\n",
    "    return ranks"
   ]
  },
  {
   "cell_type": "code",
   "execution_count": 300,
   "metadata": {
    "collapsed": true
   },
   "outputs": [],
   "source": [
    "fake_ranks = {'naturalnews.com': ['944', '269'], 'rt.com': ['3231', '902'], 'infowars.com': ['10621', '1317'], 'zerohedge.com': ['7159', '1637'], 'theonion.com': ['3648', '2081'], 'beforeitsnews.com': ['13333', '2128'], 'breitbart.com': ['4168', '2571'], 'wnd.com': ['8241', '2593'], 'globalresearch.ca': ['10723', '2595'], 'wikileaks.org': ['6380', '2770'], 'counterpunch.org': ['11956', '3065'], 'truth-out.org': ['10481', '3133'], 'abcnews.com': ['13466', '3357'], 'guardianlv.com': ['8382', '3380'], 'presstv.ir': ['16238', '3497'], 'rense.com': ['18816', '3921'], 'lewrockwell.com': ['20457', '3992'], 'drudgereport.com': ['4550', '4424'], 'frontpagemag.com': ['23423', '4484'], 'sott.net': ['27166', '4729'], 'collective-evolution.com': ['28439', '5041'], 'thenewamerican.com': ['27248', '5194'], 'sputniknews.com': ['8087', '5583'], 'coasttocoastam.com': ['32323', '5844'], 'mintpressnews.com': ['35385', '6003'], 'activistpost.com': ['25411', '6020'], 'rbth.com': ['19329', '6065'], 'opednews.com': ['32040', '6195'], 'rinf.com': ['109423', '6362'], 'yournewswire.com': ['62231', '6410'], 'prisonplanet.com': ['30258', '6468'], 'abovetopsecret.com': ['39676', '7246'], 'whatreallyhappened.com': ['54006', '7476'], 'endtime.com': ['259674', '7570'], 'thefreethoughtproject.com': ['44209', '7751'], 'veteranstoday.com': ['38714', '7815'], 'informationclearinghouse.info': ['43660', '7963'], 'washingtonsblog.com': ['58350', '8220'], 'theantimedia.org': ['81505', '8528'], 'westernjournalism.com': ['34302', '8606'], '21stcenturywire.com': ['91514', '8676'], 'antiwar.com': ['36800', '8715'], 'investmentwatchblog.com': ['92326', '8827'], 'presstv.com': ['40103', '8857'], 'dailywire.com': ['41067', '9073'], 'nutritionfacts.org': ['10086', '9376'], 'intellihub.com': ['129202', '9456'], 'nakedcapitalism.com': ['42223', '9562'], 'thedailysheeple.com': ['120530', '9815'], 'disclose.tv': ['60236', '10110'], 'paulcraigroberts.org': ['93407', '10304'], 'thedailywtf.com': ['26656', '10440'], 'blacklistednews.com': ['142072', '10491'], 'newstarget.com': ['107208', '10585'], 'theeconomiccollapseblog.com': ['74221', '10742'], 'voltairenet.org': ['50063', '10875'], 'nowtheendbegins.com': ['103495', '11013'], 'anonhq.com': ['138269', '11160'], 'godlikeproductions.com': ['99317', '11292'], 'vigilantcitizen.com': ['104645', '11536'], 'kingworldnews.com': ['124257', '11588'], 'usuncut.com': ['109483', '11681'], 'southfront.org': ['187058', '12029'], 'dailystormer.com': ['133746', '12070'], 'endoftheamericandream.com': ['136509', '12221'], 'strategic-culture.org': ['121799', '12355'], 'ronpaulinstitute.org': ['124886', '12406'], 'conservativetribune.com': ['53060', '12422'], 'barenakedislam.com': ['117177', '12520'], 'vdare.com': ['78827', '12533'], 'eutimes.net': ['189000', '12617'], 'davidduke.com': ['149996', '12937'], 'in5d.com': ['168786', '13006'], 'rumormillnews.com': ['165288', '13037'], 'geoengineeringwatch.org': ['121659', '13616'], 'unz.com': ['137313', '13730'], 'shtfplan.com': ['87126', '13913'], 'russia-insider.com': ['133073', '13930'], 'blackagendareport.com': ['123029', '13993'], 'wearechange.org': ['58657', '14356'], 'amren.com': ['43371', '14432'], 'foreignpolicyjournal.com': ['110080', '14979'], 'humansarefree.com': ['127187', '15180'], 'worldtruth.tv': ['191999', '15507'], 'thecommonsenseshow.com': ['206829', '15845'], 'katehon.com': ['261967', '16137'], 'corbettreport.com': ['110617', '16331'], 'trunews.com': ['166222', '16853'], 'other98.com': ['275787', '16855'], 'fort-russ.com': ['408328', '16904'], 'pakalertpress.com': ['234502', '17089'], 'hangthebankers.com': ['218025', '17520'], 'moonofalabama.org': ['221893', '17596'], 'silverdoctors.com': ['158983', '17690'], 'davidwolfe.com': ['96507', '17997'], 'thesaker.is': ['239935', '21398'], 'sgtreport.com': ['261128', '21681'], 'galacticconnection.com': ['329773', '23791'], 'therebel.media': ['60530', '24098'], 'readynutrition.com': ['263135', '24669'], 'projectveritas.com': ['200912', '26024'], 'intrepidreport.com': ['505991', '27599'], 'topinfopost.com': ['271820', '28151'], 'addictinginfo.org': ['67909', '32629'], 'amtvmedia.com': ['342533', '33536'], 'libertywritersnews.com': ['563779', '33745'], 'twitchy.com': ['27369', '40008'], 'truthdig.com': ['23935', '40203'], 'thefederalistpapers.org': ['190490', '43697'], 'filmsforaction.org': ['20477', '44156'], 'thesleuthjournal.com': ['220068', '45079'], 'fromthetrenchesworldreport.com': ['27877', '45409'], 'consortiumnews.com': ['54284', '45884'], 'politicususa.com': ['42042', '46167'], 'countercurrents.org': ['60350', '48263'], 'consciouslifenews.com': ['124195', '50204'], 'wakingtimes.com': ['82687', '50426'], 'clickhole.com': ['71781', '52774'], 'freedomoutpost.com': ['159034', '53810'], 'henrymakow.com': ['101646', '54135'], 'theduran.com': ['253023', '55367'], 'ijr.com': ['29450', '56675'], 'healthimpactnews.com': ['62641', '60390'], 'trueactivist.com': ['91619', '60633'], 'realfarmacy.com': ['109883', '64808'], 'liberalamerica.org': ['332504', '65222'], 'pravdareport.com': ['179625', '67196'], 'gomerblog.com': ['767882', '67757'], 'madworldnews.com': ['244765', '68421'], 'theeventchronicle.com': ['314576', '70072'], 'newsbiscuit.com': ['201986', '70293'], 'shadowproof.com': ['146037', '71153'], 'journal-neo.org': ['201797', '72189'], 'thespoof.com': ['234753', '72199'], 'whydontyoutrythis.com': ['190663', '72570'], 'returnofkings.com': ['116952', '75450'], 'libertyunyielding.com': ['335103', '75690'], 'redflagnews.com': ['299994', '76939'], 'thepeoplescube.com': ['236181', '78746'], 'thedailybell.com': ['130935', '81561'], 'legorafi.fr': ['151819', '82861'], 'occupydemocrats.com': ['233852', '84197'], 'bipartisanreport.com': ['433528', '85117'], 'satirewire.com': ['247984', '86417'], 'fellowshipoftheminds.com': ['392036', '87962'], 'educateinspirechange.org': ['218380', '88519'], 'dcclothesline.com': ['316684', '89504'], 'libertyblitzkrieg.com': ['351681', '89791'], 'secretsofthefed.com': ['291019', '92337'], 'naturalblaze.com': ['378339', '99797'], 'russia-direct.org': ['348010', '101188'], 'chronicle.su': ['683521', '101970'], 'greanvillepost.com': ['546397', '103849'], 'orientalreview.org': ['398433', '104055'], 'undergroundhealth.com': ['425595', '110704'], 'therundownlive.com': ['330770', '111551'], 'conservativedailypost.com': ['599033', '114393'], 'redstatewatcher.com': ['716808', '114485'], 'veteransnewsnow.com': ['423673', '115669'], 'endingthefed.com': ['1015182', '124183'], 'darkmoon.me': ['686092', '129566'], 'ahtribune.com': ['255299', '132458'], 'truthfrequencyradio.com': ['270497', '134769'], 'newsthump.com': ['142976', '144682'], 'anonews.co': ['252022', '146704'], 'off-guardian.org': ['709749', '149848'], 'libertynews.com': ['403635', '154456'], 'survivopedia.com': ['666043', '157515'], 'truthfeed.com': ['519870', '164491'], 'ifyouonlynews.com': ['797543', '172092'], 'dailynewsbin.com': ['943013', '181467'], 'allnewspipeline.com': ['438255', '182570'], 'reductress.com': ['178016', '184151'], 'betootaadvocate.com': ['1057220', '184572'], 'abeldanger.net': ['1499523', '185168'], 'themindunleashed.com': ['74948', '190729'], 'americanlookout.com': ['250973', '214257'], 'toprightnews.com': ['771020', '253636'], 'ewao.com': ['504133', '254550'], '100percentfedup.com': ['414725', '264689'], 'dennismichaellynch.com': ['664442', '315430'], 'truthandaction.org': ['672641', '331570'], 'govtslaves.info': ['694711', '332638'], 'theunrealtimes.com': ['189704', '333037'], 'ncscooper.com': ['968012', '333646'], 'waterfordwhispersnews.com': ['476632', '335576'], 'ufoholic.com': ['1868239', '336841'], 'americannews.com': ['1031186', '340665'], 'truthkings.com': ['1480266', '347924'], 'christiantimesnewspaper.com': ['1167311', '362682'], 'patriotrising.com': ['1173780', '362771'], 'usapoliticsnow.com': ['2862567', '364697'], 'defenddemocracy.press': ['1835256', '366194'], 'prepperwebsite.com': ['721875', '369856'], 'worldnewspolitics.com': ['1716085', '374228'], 'empireherald.com': ['2801629', '382395'], 'winningdemocrats.com': ['1588371', '388641'], 'thecontroversialfiles.net': ['2920448', '389616'], 'usanewsflash.com': ['1507899', '405550'], 'proudemocrat.com': ['4120384', '424213'], 'davidstockmanscontracorner.com': ['215832', '1095740'], 'awdnews.com': ['427772', '1104682'], 'shiftfrequency.com': ['352851', '1107003'], 'gulagbound.com': ['300377', '1111031'], 'morningnewsusa.com': ['330008', '1111881'], 'regated.com': ['3276917', '1258603'], 'adobochronicles.com': ['1891592', '1488171'], 'thelastlineofdefense.org': ['826573', '1498367'], 'investmentresearchdynamics.com': ['785301', '2050556'], 'magafeed.com': ['3200620', '2084077'], 'americasfreedomfighters.com': ['929387', '2183892'], 'therussophile.org': ['2166710', '2254642'], 'ihavethetruth.com': ['388356', '2900756'], 'the-newspapers.com': ['6776828', '2939728'], 'usasupreme.com': ['2201663', '2940547'], 'wundergroundmusic.com': ['1805363', '2954938'], 'truthbroadcastnetwork.com': ['8399693', '2961936'], 'viralliberty.com': ['2660439', '2978710'], 'eyeopening.info': ['1536492', '2996900'], 'newcenturytimes.com': ['4140634', '3064353'], 'donaldtrumpnews.co': ['3528408', '3187988'], 'usatwentyfour.com': ['2752487', '3205832'], 'bignuggetnews.com': ['15826369', '3450512'], 'departed.co': ['6882162', '3498088'], 'spinzon.com': ['13114074', '3533957'], 'topratedviral.com': ['8157719', '3606765'], 'miniplanet.us': ['14204876', '3749330'], 'indiaarising.com': ['20857653', '4894447'], 'usanewsinsider.com': ['16937704', '5611977'], 'bigbluevision.org': ['33891985', '6073145'], 'presidentialvoting2016.com': ['36674747', '6203404'], 'jewsnews.co': ['52184255', '18628363']}"
   ]
  },
  {
   "cell_type": "code",
   "execution_count": 329,
   "metadata": {},
   "outputs": [],
   "source": [
    "real_news = open('real_sites.txt', 'r').read().split('\\n')"
   ]
  },
  {
   "cell_type": "code",
   "execution_count": 372,
   "metadata": {},
   "outputs": [],
   "source": [
    "real_news=['abcnews','abc','aftenposten','aljazeera','ansa','argaam','arstechnica','arynews','ap','afr','axios','bbc','bild','blastingnews','bleacherreport','businessinsider','businessinsider',\n",
    " 'cnn','cnnespanol','cryptocoin','dailymail','tagesspiegel','zeit','elmundo','engadget','ew','espn','espncricinfo','financialpost','ft','focus','football-italia','fortune','fourfourtwo','foxnews','foxsports','globo','israelnationalnews','gp.se','gruenderszene','ycombinator','handelsblatt','ign','ilsole24ore','independent','infobae','xinhua-net','vice','time','washingtontimes','wsj','indiatimes','theverge','washingtonpost','telegraph','nytimes','thenextweb','thesportbible','thehindu','huffingtonpost','irishtimes','ladbiblegroup','thehill','theguardian','theglobeandmail','techcrunch','techradar','futurecdn','economist','svd','talksport','t3n','rte','rtlnieuws','sabq','spiegel','wiwo','recode','nrk','polygon','rbc','reuters','nfl','nhl','nba','mls','mlb','nextbigfuture','nymag','sina','163','news24','news','newsweek','mtv','nationalgeographic','nationalreview','nbcnews','mtv','msnbc','mirror','metro','liberation','marca','mashable','medicalnewstoday','usatoday','ynet','wired','lemonde','lesechos','lequipe','lenta','repubblica','lanacion','lageceta','infomoney','japantimes','japantoday','koreatimes','koreaherald','kcnawatch','vietnamnews.vn','tuoitrenews','france24','connexionfrance','moroccoworldnews','chinadaily','globaltimes.cn','cctv.com','scmp','cctv.cn','hindustantimes','samachar','capitalmarket','thebigproject','zeenews','thesouthafrican','sowetanlive','allafrica','ft','dailytelegraph','thelocal.it','thelocal.fr','thelocal.dk','thelocal.se','thelocal.ch','cphpost','euronews','dailynewshungary','kormany.hu','budapestbeacon','radio.cz','praguemonitor','startribune','twincities','jsonline','nbclosangeles','sacbee','mercurynews','nzherald','tvnz','autosport','mexiconewsdaily','kcci','desmoinesregister','masslive','wcvb']"
   ]
  },
  {
   "cell_type": "markdown",
   "metadata": {},
   "source": [
    "## Part Four: Domain Classifier"
   ]
  },
  {
   "cell_type": "code",
   "execution_count": 469,
   "metadata": {
    "collapsed": true
   },
   "outputs": [],
   "source": [
    "from sklearn import tree\n",
    "from sklearn.neighbors import KNeighborsClassifier\n",
    "import pickle\n",
    "from sklearn.metrics import confusion_matrix\n",
    "from sklearn.neighbors import KNeighborsClassifier"
   ]
  },
  {
   "cell_type": "code",
   "execution_count": 494,
   "metadata": {},
   "outputs": [],
   "source": [
    "real_values = list(real_ranks.values())[:143]\n",
    "fake_values = list(fake_ranks.values())[:143]\n",
    "features = real_values + fake_values\n",
    "labels = [1 for i in range(143)]+[0 for i in range(143)]"
   ]
  },
  {
   "cell_type": "code",
   "execution_count": 493,
   "metadata": {},
   "outputs": [
    {
     "data": {
      "text/plain": [
       "286"
      ]
     },
     "execution_count": 493,
     "metadata": {},
     "output_type": "execute_result"
    }
   ],
   "source": [
    "len(labels)"
   ]
  },
  {
   "cell_type": "code",
   "execution_count": 474,
   "metadata": {
    "collapsed": true
   },
   "outputs": [],
   "source": [
    "X_train, X_test, y_train, y_test = train_test_split(features, labels, test_size=0.2)"
   ]
  },
  {
   "cell_type": "code",
   "execution_count": 475,
   "metadata": {
    "collapsed": true
   },
   "outputs": [],
   "source": [
    "clf = tree.DecisionTreeClassifier()\n",
    "clf = clf.fit(X_train, y_train)"
   ]
  },
  {
   "cell_type": "code",
   "execution_count": 483,
   "metadata": {},
   "outputs": [
    {
     "data": {
      "text/plain": [
       "array([[23,  4],\n",
       "       [ 3, 28]], dtype=int64)"
      ]
     },
     "execution_count": 483,
     "metadata": {},
     "output_type": "execute_result"
    }
   ],
   "source": [
    "Y_pred = clf.predict(X_test)\n",
    "confusion_matrix(y_test, Y_pred)"
   ]
  },
  {
   "cell_type": "code",
   "execution_count": 489,
   "metadata": {},
   "outputs": [
    {
     "data": {
      "text/plain": [
       "array([0, 1, 1, 1, 0, 1, 1, 0, 0, 1, 0, 0, 1, 0, 1, 0, 1, 0, 0, 0, 1, 1, 1,\n",
       "       1, 0, 1, 0, 1, 1, 0, 0, 1, 1, 1, 1, 1, 0, 1, 1, 1, 0, 0, 1, 1, 0, 0,\n",
       "       1, 0, 0, 1, 1, 0, 1, 0, 0, 0, 1, 1])"
      ]
     },
     "execution_count": 489,
     "metadata": {},
     "output_type": "execute_result"
    }
   ],
   "source": [
    "Y_pred"
   ]
  },
  {
   "cell_type": "code",
   "execution_count": 490,
   "metadata": {},
   "outputs": [
    {
     "data": {
      "text/html": [
       "<div>\n",
       "<style>\n",
       "    .dataframe thead tr:only-child th {\n",
       "        text-align: right;\n",
       "    }\n",
       "\n",
       "    .dataframe thead th {\n",
       "        text-align: left;\n",
       "    }\n",
       "\n",
       "    .dataframe tbody tr th {\n",
       "        vertical-align: top;\n",
       "    }\n",
       "</style>\n",
       "<table border=\"1\" class=\"dataframe\">\n",
       "  <thead>\n",
       "    <tr style=\"text-align: right;\">\n",
       "      <th>Predicted</th>\n",
       "      <th>0</th>\n",
       "      <th>1</th>\n",
       "      <th>All</th>\n",
       "    </tr>\n",
       "    <tr>\n",
       "      <th>True</th>\n",
       "      <th></th>\n",
       "      <th></th>\n",
       "      <th></th>\n",
       "    </tr>\n",
       "  </thead>\n",
       "  <tbody>\n",
       "    <tr>\n",
       "      <th>0</th>\n",
       "      <td>23</td>\n",
       "      <td>4</td>\n",
       "      <td>27</td>\n",
       "    </tr>\n",
       "    <tr>\n",
       "      <th>1</th>\n",
       "      <td>3</td>\n",
       "      <td>28</td>\n",
       "      <td>31</td>\n",
       "    </tr>\n",
       "    <tr>\n",
       "      <th>All</th>\n",
       "      <td>26</td>\n",
       "      <td>32</td>\n",
       "      <td>58</td>\n",
       "    </tr>\n",
       "  </tbody>\n",
       "</table>\n",
       "</div>"
      ],
      "text/plain": [
       "Predicted   0   1  All\n",
       "True                  \n",
       "0          23   4   27\n",
       "1           3  28   31\n",
       "All        26  32   58"
      ]
     },
     "execution_count": 490,
     "metadata": {},
     "output_type": "execute_result"
    }
   ],
   "source": [
    "pd.crosstab(pd.Series(y_test), pd.Series(Y_pred), rownames=['True'], colnames=['Predicted'], margins=True)"
   ]
  },
  {
   "cell_type": "code",
   "execution_count": 485,
   "metadata": {},
   "outputs": [],
   "source": [
    "import pickle\n",
    "filename = 'domain_clf.sav'\n",
    "pickle.dump(clf, open(filename, 'wb'))"
   ]
  },
  {
   "cell_type": "code",
   "execution_count": 497,
   "metadata": {},
   "outputs": [],
   "source": [
    "neigh = KNeighborsClassifier(n_neighbors=3)\n",
    "neigh = neigh.fit(X_train, y_train) "
   ]
  },
  {
   "cell_type": "code",
   "execution_count": 498,
   "metadata": {},
   "outputs": [
    {
     "data": {
      "text/plain": [
       "array([[24,  3],\n",
       "       [ 3, 28]], dtype=int64)"
      ]
     },
     "execution_count": 498,
     "metadata": {},
     "output_type": "execute_result"
    }
   ],
   "source": [
    "Y_pred = neigh.predict(X_test)\n",
    "confusion_matrix(y_test, Y_pred)"
   ]
  },
  {
   "cell_type": "code",
   "execution_count": 508,
   "metadata": {},
   "outputs": [
    {
     "data": {
      "text/plain": [
       "array([0, 1, 1, 1, 0, 1, 1, 0, 0, 1, 1, 0, 1, 0, 1, 0, 1, 0, 0, 0, 1, 1, 1,\n",
       "       1, 0, 0, 0, 1, 1, 0, 0, 1, 1, 1, 1, 1, 0, 1, 1, 1, 0, 0, 1, 1, 0, 0,\n",
       "       0, 0, 0, 1, 1, 0, 1, 0, 0, 0, 1, 1])"
      ]
     },
     "execution_count": 508,
     "metadata": {},
     "output_type": "execute_result"
    }
   ],
   "source": [
    "Y_pred"
   ]
  },
  {
   "cell_type": "code",
   "execution_count": 512,
   "metadata": {},
   "outputs": [
    {
     "data": {
      "text/plain": [
       "array([0])"
      ]
     },
     "execution_count": 512,
     "metadata": {},
     "output_type": "execute_result"
    }
   ],
   "source": [
    "hspr = [[search_site('lefigaro.fr')[2], search_site('lefigaro.fr')[0]]]\n",
    "neigh.predict(hspr)"
   ]
  },
  {
   "cell_type": "code",
   "execution_count": 513,
   "metadata": {},
   "outputs": [
    {
     "data": {
      "text/plain": [
       "[['2726', '1016']]"
      ]
     },
     "execution_count": 513,
     "metadata": {},
     "output_type": "execute_result"
    }
   ],
   "source": [
    "hspr"
   ]
  },
  {
   "cell_type": "markdown",
   "metadata": {},
   "source": [
    "Sites with lower possibility are more likely to be classified as fake"
   ]
  },
  {
   "cell_type": "markdown",
   "metadata": {},
   "source": [
    "## Part Five: Wikipedia"
   ]
  },
  {
   "cell_type": "code",
   "execution_count": 514,
   "metadata": {
    "collapsed": true
   },
   "outputs": [],
   "source": [
    "import wikipedia"
   ]
  },
  {
   "cell_type": "code",
   "execution_count": 532,
   "metadata": {},
   "outputs": [
    {
     "data": {
      "text/plain": [
       "['Le Figaro',\n",
       " 'Madame Figaro',\n",
       " 'The OA',\n",
       " 'German language',\n",
       " 'Le Figaro Magazine',\n",
       " 'Angola',\n",
       " 'Emmanuel Macron',\n",
       " 'Carla Bruni',\n",
       " 'Pierre Bergé',\n",
       " 'Orange S.A.',\n",
       " 'List of Miraculous: Tales of Ladybug & Cat Noir episodes',\n",
       " 'Republic of the Congo',\n",
       " 'The Goldfinch (novel)',\n",
       " \"Assassin's Creed Unity\",\n",
       " 'Loulou de la Falaise',\n",
       " 'Mercedes-Benz SLK-Class',\n",
       " 'Renault Captur',\n",
       " 'Tudor Watches',\n",
       " 'Lyon',\n",
       " 'Galeries Lafayette',\n",
       " 'Bertrand Cantat',\n",
       " 'Golshifteh Farahani',\n",
       " 'Brexit',\n",
       " 'Jason Statham',\n",
       " 'Dupont de Ligonnès murders and disappearance',\n",
       " '2017 French riots',\n",
       " 'Xenia Tchoumitcheva',\n",
       " 'Laetitia Garriott de Cayeux',\n",
       " 'Robert Louis-Dreyfus',\n",
       " \"L'Auberge Espagnole\",\n",
       " 'Serial (Bad) Weddings',\n",
       " 'Mathilde Lemoine',\n",
       " 'Asterix',\n",
       " 'Centre Georges Pompidou',\n",
       " 'List of songs recorded by Shakira',\n",
       " 'AccorHotels Arena',\n",
       " 'Loubna Abidar',\n",
       " '2017–18 Ligue 2',\n",
       " 'Typhaine case',\n",
       " 'Djibril Sidibé (footballer, born 1992)',\n",
       " 'Thibaut Pinot',\n",
       " 'Emmanuelle Béart',\n",
       " 'Amorino (gelato)',\n",
       " 'Victor of Aveyron',\n",
       " 'The 20/20 Experience World Tour',\n",
       " 'France–Spain relations',\n",
       " 'Marithé et François Girbaud',\n",
       " 'Nabil Fekir',\n",
       " 'Orelsan',\n",
       " 'Grégoire Delacourt',\n",
       " 'Azzedine Alaïa',\n",
       " 'Kehl',\n",
       " 'Camille Muffat',\n",
       " 'Tata Motors',\n",
       " 'The Jacqueline Sauvage case',\n",
       " 'National conservatism',\n",
       " 'UEFA Euro 2016 squads',\n",
       " 'Lucie Lucas',\n",
       " 'Carrefour',\n",
       " 'An Idiot Abroad',\n",
       " 'Altarea SCA',\n",
       " 'Avoriaz',\n",
       " 'Alois Brunner',\n",
       " 'Margarita Louis-Dreyfus',\n",
       " 'Age of majority',\n",
       " 'Francesco Piemontesi',\n",
       " 'Opinel knife',\n",
       " 'List of cult films: P',\n",
       " \"List of coups d'état and coup attempts\",\n",
       " 'Valtesse de La Bigne',\n",
       " \"List of coups d'état and coup attempts by country\",\n",
       " 'Eiffel Tower replicas and derivatives',\n",
       " 'Hillel Neuer',\n",
       " 'Half-mast',\n",
       " 'Air France destinations',\n",
       " 'Miss France 2018',\n",
       " 'Bolloré',\n",
       " 'Tony Ward (model)',\n",
       " 'List of presidential trips made by Emmanuel Macron',\n",
       " 'Sébastien Corchia',\n",
       " 'Frexit',\n",
       " 'Legal drinking age',\n",
       " 'Nopporn Suppipat',\n",
       " 'Murder of Sarah Halimi',\n",
       " 'CroisiEurope',\n",
       " 'Showroomprive.com',\n",
       " 'Cahuzac affair',\n",
       " 'Juxtaposed controls',\n",
       " 'Ariane de Rothschild',\n",
       " 'Lacrim',\n",
       " 'Maison Souquet',\n",
       " 'Chris Lang',\n",
       " 'Top Gear (2002 TV series)',\n",
       " 'Renault',\n",
       " 'Roger Gicquel',\n",
       " 'French Armed Forces',\n",
       " 'Louane (singer)',\n",
       " 'Afghan parliamentary election, 2010',\n",
       " 'Gaspard Ulliel',\n",
       " 'List of 2017–18 Top 14 transfers']"
      ]
     },
     "execution_count": 532,
     "metadata": {},
     "output_type": "execute_result"
    }
   ],
   "source": [
    "wikipedia.search(\"lefigaro\", results=100)"
   ]
  },
  {
   "cell_type": "code",
   "execution_count": null,
   "metadata": {
    "collapsed": true
   },
   "outputs": [],
   "source": []
  }
 ],
 "metadata": {
  "kernelspec": {
   "display_name": "Python 3",
   "language": "python",
   "name": "python3"
  },
  "language_info": {
   "codemirror_mode": {
    "name": "ipython",
    "version": 3
   },
   "file_extension": ".py",
   "mimetype": "text/x-python",
   "name": "python",
   "nbconvert_exporter": "python",
   "pygments_lexer": "ipython3",
   "version": "3.6.3"
  }
 },
 "nbformat": 4,
 "nbformat_minor": 2
}
